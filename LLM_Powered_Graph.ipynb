{
 "cells": [
  {
   "cell_type": "code",
   "execution_count": 1,
   "id": "e53fb44a",
   "metadata": {},
   "outputs": [],
   "source": [
    "from typing import TypedDict\n",
    "from langgraph.graph import StateGraph , END , START\n",
    "\n",
    "## Reducers\n",
    "from typing import Annotated\n",
    "from langgraph.graph.message import add_messages ## this is called reducer\n"
   ]
  },
  {
   "cell_type": "code",
   "execution_count": 2,
   "id": "a119ee7d",
   "metadata": {},
   "outputs": [],
   "source": [
    "class State(TypedDict):\n",
    "    messages: Annotated[list, add_messages] \n",
    "    ## Annotated anotate the messages into human and ai messages Add_Message basically prepare the whole list of messages of previous conversation to maintain the context of MessageHistory\n",
    "    "
   ]
  },
  {
   "cell_type": "code",
   "execution_count": null,
   "id": "7ad43eed",
   "metadata": {},
   "outputs": [],
   "source": [
    "from dotenv import load_dotenv\n",
    "import os\n",
    "os.environ['GROQ_API_KEY'] = os.getenv('GROQ_API_KEY')\n"
   ]
  },
  {
   "cell_type": "code",
   "execution_count": 7,
   "id": "c647c01b",
   "metadata": {},
   "outputs": [],
   "source": [
    "from langchain_groq import ChatGroq\n",
    "llm = ChatGroq(model=\"llama3-70b-8192\")\n",
    "llm2 = ChatGroq(model = 'qwen-2.5-32b')"
   ]
  },
  {
   "cell_type": "code",
   "execution_count": 10,
   "id": "57d8e46d",
   "metadata": {},
   "outputs": [
    {
     "data": {
      "text/plain": [
       "AIMessage(content=\"LangGraph is an open-source graph-based language model that represents language as a graph structure, where nodes represent words or entities, and edges represent relationships between them. This approach deviates from traditional language models that rely on sequential or hierarchical representations of language.\\n\\nIn LangGraph, each node in the graph is associated with a set of features, such as word embeddings, part-of-speech tags, and semantic roles. The edges between nodes capture various relationships, including:\\n\\n1. **Syntactic relationships**: subject-verb-object relationships, modifier relationships, and dependency parse trees.\\n2. **Semantic relationships**: entity co-occurrence, coreference, and semantic role labeling.\\n3. **Pragmatic relationships**: discourse relationships, such as coreference, bridging, and event coreference.\\n\\nBy representing language as a graph, LangGraph can capture complex relationships between words and entities, and model language phenomena more effectively. This approach has several benefits, including:\\n\\n1. **Improved contextual understanding**: LangGraph can better capture long-range dependencies and nuanced relationships between words and entities.\\n2. **Enhanced semantic representation**: The graph structure allows for more expressive and flexible representation of semantic relationships.\\n3. **Multi-task learning**: LangGraph can be trained on multiple NLP tasks simultaneously, leveraging the shared graph structure.\\n\\nLangGraph has been applied to various NLP tasks, including:\\n\\n1. **Question answering**: LangGraph has shown improved performance on question answering tasks, particularly those requiring complex reasoning and inference.\\n2. **Text classification**: LangGraph has been used for text classification tasks, such as sentiment analysis and topic modeling.\\n3. **Named entity recognition**: LangGraph has improved performance on named entity recognition tasks, particularly in scenarios with complex entity relationships.\\n\\nWhile LangGraph is a promising approach, it also has some challenges and limitations, such as:\\n\\n1. **Scalability**: LangGraph can be computationally expensive and require significant memory, making it challenging to scale to very large datasets.\\n2. **Interpretability**: The graph structure can make it difficult to interpret the model's decisions and understand how it arrives at its predictions.\\n\\nOverall, LangGraph is a innovative approach to language modeling that has shown promising results in various NLP tasks. However, further research is needed to address its limitations and make it more widely applicable.\", additional_kwargs={}, response_metadata={'token_usage': {'completion_tokens': 466, 'prompt_tokens': 14, 'total_tokens': 480, 'completion_time': 2.174041274, 'prompt_time': 0.000380153, 'queue_time': 1.06394514, 'total_time': 2.174421427}, 'model_name': 'llama3-70b-8192', 'system_fingerprint': 'fp_2de508bbce', 'service_tier': 'on_demand', 'finish_reason': 'stop', 'logprobs': None}, id='run--57b73b4b-a724-40ef-b472-6667db77f221-0', usage_metadata={'input_tokens': 14, 'output_tokens': 466, 'total_tokens': 480})"
      ]
     },
     "execution_count": 10,
     "metadata": {},
     "output_type": "execute_result"
    }
   ],
   "source": [
    "llm.invoke(\"What is langGraph\")"
   ]
  },
  {
   "cell_type": "code",
   "execution_count": 11,
   "id": "2f2d2f7c",
   "metadata": {},
   "outputs": [],
   "source": [
    "def superbot(state:State):\n",
    "    return {\"messages\" : [llm.invoke(state['messages'])]}"
   ]
  },
  {
   "cell_type": "code",
   "execution_count": 16,
   "id": "e1eddb85",
   "metadata": {},
   "outputs": [
    {
     "data": {
      "image/png": "[encoded data removed]",
      "text/plain": [
       "<IPython.core.display.Image object>"
      ]
     },
     "metadata": {},
     "output_type": "display_data"
    }
   ],
   "source": [
    "from IPython.display import Image , display\n",
    "graph = StateGraph(State)\n",
    "graph.add_node(\"SuperBot\" , superbot)\n",
    "\n",
    "### ADD Edges\n",
    "\n",
    "graph.add_edge(START , \"SuperBot\")\n",
    "graph.add_edge(\"SuperBot\" , END)\n",
    "\n",
    "graph_builder = graph.compile()\n",
    "\n",
    "### Display\n",
    "display(Image(graph_builder.get_graph().draw_mermaid_png()))"
   ]
  },
  {
   "cell_type": "code",
   "execution_count": 18,
   "id": "8491669f",
   "metadata": {},
   "outputs": [],
   "source": [
    "#### Invocation \n",
    "\n",
    "response = graph_builder.invoke({\"messages\" : \"Hi my name is Shahbaz And i Like FootBall\"})"
   ]
  },
  {
   "cell_type": "code",
   "execution_count": 21,
   "id": "c3c7f11c",
   "metadata": {},
   "outputs": [
    {
     "data": {
      "text/plain": [
       "\"Hi Shahbaz! Nice to meet you!\\n\\nAh, you like football, huh? That's awesome! Which team do you support? Are you a fan of the Premier League, La Liga, or maybe the Champions League?\\n\\nDo you have a favorite player or a favorite match that you'll never forget?\""
      ]
     },
     "execution_count": 21,
     "metadata": {},
     "output_type": "execute_result"
    }
   ],
   "source": [
    "response.get('messages')[1].content"
   ]
  },
  {
   "cell_type": "code",
   "execution_count": 26,
   "id": "fede7340",
   "metadata": {},
   "outputs": [
    {
     "name": "stdout",
     "output_type": "stream",
     "text": [
      "{'SuperBot': {'messages': [AIMessage(content=\"Romania! A beautiful country located in Southeastern Europe, known for its rich history, stunning landscapes, and vibrant culture. Here are some interesting facts about Romania:\\n\\n**History**\\n\\n* Romania has a complex and tumultuous history, with various empires and dynasties ruling over the territory, including the Romans, Ottomans, Habsburgs, and Soviets.\\n* The country has a strong medieval heritage, with many well-preserved castles, fortresses, and monasteries, such as Bran Castle (also known as Dracula's Castle) and the Voronet Monastery.\\n* Romania was a key player in World War I and II, and suffered greatly during the communist era under Nicolae Ceaușescu's regime.\\n\\n**Landscapes and Nature**\\n\\n* Romania is home to the Carpathian Mountains, which offer great opportunities for hiking, skiing, and wildlife spotting.\\n* The Danube River forms the border with Bulgaria and Serbia, and the Danube Delta is a UNESCO World Heritage Site and a haven for birdwatchers and nature lovers.\\n* Romania has a diverse range of landscapes, from the Black Sea coast to the rolling hills of Transylvania and the fertile plains of Wallachia.\\n\\n**Culture**\\n\\n* Romanian culture is a unique blend of Latin, Greek, and Slavic influences, with a strong emphasis on folklore, music, and dance.\\n* The country is famous for its traditional dishes, such as sarmale (stuffed cabbage rolls), mamaliga (polenta), and ciorba (soup).\\n* Romania has a rich literary and artistic heritage, with famous writers like Mihai Eminescu and Ion Creanga, and artists like Nicolae Grigorescu and Theodor Aman.\\n\\n**Cities**\\n\\n* Bucharest, the capital city, is a vibrant metropolis with a mix of Belle Époque architecture, communist-era landmarks, and modern facilities.\\n* Other notable cities include Brasov, Sibiu, Cluj-Napoca, and Timisoara, each with its own unique charm and history.\\n\\n**Economy and Tourism**\\n\\n* Romania has a growing economy, driven by industries like IT, automotive, and agriculture.\\n* Tourism is becoming increasingly important, with visitors drawn to the country's natural beauty, cultural heritage, and affordable prices.\\n* Romania is a member of the European Union and has a relatively low cost of living, making it an attractive destination for expats and digital nomads.\\n\\n**Fun Facts**\\n\\n* Romania is home to the world's second-largest building, the Palace of the Parliament in Bucharest.\\n* The country has a high number of castles and fortresses, with over 100 located throughout the country.\\n* Romania is one of the most biodiverse countries in Europe, with many unique species of flora and fauna.\\n\\nThese are just a few of the many fascinating aspects of Romania. Is there something specific you'd like to know more about?\", additional_kwargs={}, response_metadata={'token_usage': {'completion_tokens': 595, 'prompt_tokens': 15, 'total_tokens': 610, 'completion_time': 2.36617105, 'prompt_time': 0.000186007, 'queue_time': 0.009422724, 'total_time': 2.366357057}, 'model_name': 'llama3-70b-8192', 'system_fingerprint': 'fp_dd4ae1c591', 'service_tier': 'on_demand', 'finish_reason': 'stop', 'logprobs': None}, id='run--d1527268-1287-4bc1-af93-eb3b9e2d86c0-0', usage_metadata={'input_tokens': 15, 'output_tokens': 595, 'total_tokens': 610})]}}\n"
     ]
    }
   ],
   "source": [
    "for event in graph_builder.stream({\"messages\" : \"Do you know about Romania\"} ,stream_mode= \"updates\"):\n",
    "    print(event)"
   ]
  },
  {
   "cell_type": "code",
   "execution_count": null,
   "id": "4cb1b404",
   "metadata": {},
   "outputs": [],
   "source": []
  }
 ],
 "metadata": {
  "kernelspec": {
   "display_name": "Python 3",
   "language": "python",
   "name": "python3"
  },
  "language_info": {
   "codemirror_mode": {
    "name": "ipython",
    "version": 3
   },
   "file_extension": ".py",
   "mimetype": "text/x-python",
   "name": "python",
   "nbconvert_exporter": "python",
   "pygments_lexer": "ipython3",
   "version": "3.12.0"
  }
 },
 "nbformat": 4,
 "nbformat_minor": 5
}
